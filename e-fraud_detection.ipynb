{
 "cells": [
  {
   "cell_type": "code",
   "execution_count": 77,
   "metadata": {},
   "outputs": [],
   "source": [
    "import pandas as pd\n",
    "from sklearn.model_selection import train_test_split\n",
    "import numpy as np\n"
   ]
  },
  {
   "cell_type": "code",
   "execution_count": 78,
   "metadata": {},
   "outputs": [],
   "source": [
    "data = pd.read_csv('transaction_sample_logs.csv')\n",
    "#print(data.isnull().sum())\n",
    "data_type = {\n",
    "    \"CASH_OUT\":1,\n",
    "    \"PAYMENT\":2,\n",
    "    \"CASH_IN\":3,\n",
    "    \"TRANSFER\":4,\n",
    "    \"DEBIT\":5\n",
    "}\n",
    "data[\"type\"] = data[\"type\"].map(data_type)\n",
    "fraud_valid = {\n",
    "    0: \"Not Fraud\",\n",
    "    1: \"Fraud\"\n",
    "}\n",
    "data[\"isFraud\"] = data[\"isFraud\"].map(fraud_valid)\n",
    "x = np.array(data[[\"type\",\"amount\",\"oldbalanceOrg\", \"newbalanceOrig\"]])\n",
    "y = np.array(data[\"isFraud\"])\n"
   ]
  },
  {
   "cell_type": "code",
   "execution_count": 80,
   "metadata": {},
   "outputs": [
    {
     "name": "stdout",
     "output_type": "stream",
     "text": [
      "1.0\n"
     ]
    }
   ],
   "source": [
    "from sklearn.tree import DecisionTreeClassifier\n",
    "xtrain, xtest, ytrain, ytest = train_test_split(x, y, \n",
    "                                                    test_size=0.10, \n",
    "                                                    random_state=42)\n",
    "\n",
    "# Create and fit the model\n",
    "model = DecisionTreeClassifier()\n",
    "model.fit(xtrain, ytrain)\n",
    "print(model.score(xtest,ytest))"
   ]
  },
  {
   "cell_type": "code",
   "execution_count": 81,
   "metadata": {},
   "outputs": [
    {
     "name": "stdout",
     "output_type": "stream",
     "text": [
      "The case is =  Fraud\n",
      "The case is =  Not Fraud\n"
     ]
    }
   ],
   "source": [
    "#Case where all money was transferred\n",
    "metrics = np.array([[[4, 9000.6,9000.0, 0.6]],[[1, 9000.6,900.6, 8100.0]]])\n",
    "fraud =  model.predict(metrics[0])\n",
    "print(\"The case is = \",fraud[0])\n",
    "#Case where cash was withdrawn\n",
    "\n",
    "fraud =  model.predict(metrics[1])\n",
    "print(\"The case is = \",fraud[0])"
   ]
  }
 ],
 "metadata": {
  "kernelspec": {
   "display_name": "Python 3",
   "language": "python",
   "name": "python3"
  },
  "language_info": {
   "codemirror_mode": {
    "name": "ipython",
    "version": 3
   },
   "file_extension": ".py",
   "mimetype": "text/x-python",
   "name": "python",
   "nbconvert_exporter": "python",
   "pygments_lexer": "ipython3",
   "version": "3.11.5"
  },
  "orig_nbformat": 4
 },
 "nbformat": 4,
 "nbformat_minor": 2
}
